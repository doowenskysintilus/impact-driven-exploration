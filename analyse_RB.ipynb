{
 "cells": [
  {
   "cell_type": "code",
   "execution_count": 1,
   "id": "2b032cab",
   "metadata": {},
   "outputs": [],
   "source": [
    "import pandas as pd\n",
    "import json\n",
    "import numpy as np\n"
   ]
  },
  {
   "cell_type": "code",
   "execution_count": 2,
   "id": "15060894",
   "metadata": {},
   "outputs": [],
   "source": [
    "filename = \"replay_buffer.txt\""
   ]
  },
  {
   "cell_type": "code",
   "execution_count": null,
   "id": "9b291ff8",
   "metadata": {},
   "outputs": [],
   "source": [
    "with open(filename, \"r\") as f:\n",
    "    data = [json.loads(line) for line in f]"
   ]
  },
  {
   "cell_type": "code",
   "execution_count": null,
   "id": "91763062",
   "metadata": {},
   "outputs": [
    {
     "name": "stdout",
     "output_type": "stream",
     "text": [
      "                                         partial_obs  \\\n",
      "0  [[[[0, 0, 0], [0, 0, 0], [0, 0, 0], [0, 0, 0],...   \n",
      "1  [[[[0, 0, 0], [0, 0, 0], [0, 0, 0], [0, 0, 0],...   \n",
      "2  [[[[0, 0, 0], [0, 0, 0], [0, 0, 0], [0, 0, 0],...   \n",
      "3  [[[[0, 0, 0], [0, 0, 0], [0, 0, 0], [0, 0, 0],...   \n",
      "4  [[[[0, 0, 0], [0, 0, 0], [0, 0, 0], [0, 0, 0],...   \n",
      "\n",
      "                                               sound  \\\n",
      "0  [[0.4843510091304779, 0.48438552021980286, 0.4...   \n",
      "1  [[0.4843510091304779, 0.48438552021980286, 0.4...   \n",
      "2  [[0.4843510091304779, 0.48438552021980286, 0.4...   \n",
      "3  [[0.4843510091304779, 0.48438552021980286, 0.4...   \n",
      "4  [[0.4843510091304779, 0.48438552021980286, 0.4...   \n",
      "\n",
      "                                              action  \\\n",
      "0  [6, 0, 2, 5, 1, 6, 2, 3, 4, 0, 2, 3, 2, 4, 3, ...   \n",
      "1  [0, 6, 6, 3, 1, 6, 1, 6, 1, 1, 4, 2, 0, 5, 5, ...   \n",
      "2  [1, 6, 4, 5, 5, 3, 4, 5, 6, 4, 4, 4, 6, 1, 6, ...   \n",
      "3  [4, 3, 1, 6, 6, 1, 3, 2, 3, 5, 3, 5, 1, 2, 2, ...   \n",
      "4  [4, 6, 4, 5, 2, 4, 5, 0, 0, 2, 1, 3, 5, 1, 0, ...   \n",
      "\n",
      "                                              reward  \\\n",
      "0  [0.0, 0.0, 0.0, 0.0, 0.0, 0.0, 0.0, 0.0, 0.0, ...   \n",
      "1  [0.0, 0.0, 0.0, 0.0, 0.0, 0.0, 0.0, 0.0, 0.0, ...   \n",
      "2  [0.0, 0.0, 0.0, 0.0, 0.0, 0.0, 0.0, 0.0, 0.0, ...   \n",
      "3  [0.0, 0.0, 0.0, 0.0, 0.0, 0.0, 0.0, 0.0, 0.0, ...   \n",
      "4  [0.0, 0.0, 0.0, 0.0, 0.0, 0.0, 0.0, 0.0, 0.0, ...   \n",
      "\n",
      "                                                done  \\\n",
      "0  [False, False, False, False, False, False, Fal...   \n",
      "1  [False, False, False, False, False, False, Fal...   \n",
      "2  [False, False, False, False, False, False, Fal...   \n",
      "3  [False, False, False, False, False, False, Fal...   \n",
      "4  [False, False, False, False, False, False, Fal...   \n",
      "\n",
      "                                    intrinsic_reward  \\\n",
      "0  [0.00014072262274567038, 0.0001407229428878054...   \n",
      "1  [0.00014072169142309576, 0.0001407186064170673...   \n",
      "2  [0.00014072348130866885, 0.0001407214003847912...   \n",
      "3  [0.00014072364137973636, 0.0001407210656907409...   \n",
      "4  [0.00014072885096538812, 0.0001407230884069576...   \n",
      "\n",
      "                                               label  \n",
      "0  [0.0, 0.0, 1.0, 0.0, 1.0, 1.0, 0.0, 0.0, 1.0, ...  \n",
      "1  [1.0, 0.0, 1.0, 1.0, 0.0, 1.0, 0.0, 0.0, 1.0, ...  \n",
      "2  [0.0, 1.0, 0.0, 0.0, 0.0, 0.0, 0.0, 1.0, 0.0, ...  \n",
      "3  [0.0, 0.0, 0.0, 1.0, 0.0, 0.0, 1.0, 1.0, 1.0, ...  \n",
      "4  [1.0, 0.0, 0.0, 0.0, 0.0, 1.0, 1.0, 1.0, 1.0, ...  \n"
     ]
    }
   ],
   "source": [
    "df = pd.DataFrame(data)\n",
    "\n",
    "print(df.head())"
   ]
  },
  {
   "cell_type": "code",
   "execution_count": null,
   "id": "49852031",
   "metadata": {},
   "outputs": [
    {
     "name": "stdout",
     "output_type": "stream",
     "text": [
      "Nombre de paires avec label 0 : 55895\n",
      "Nombre de paires avec label 1 : 56105\n"
     ]
    }
   ],
   "source": [
    "\n",
    "all_labels = np.concatenate(df['label'].values)\n",
    "\n",
    "unique, counts = np.unique(all_labels, return_counts=True)\n",
    "for u, c in zip(unique, counts):\n",
    "    print(f\"Nombre de paires avec label {int(u)} : {c}\")"
   ]
  }
 ],
 "metadata": {
  "kernelspec": {
   "display_name": "she_sup",
   "language": "python",
   "name": "python3"
  },
  "language_info": {
   "codemirror_mode": {
    "name": "ipython",
    "version": 3
   },
   "file_extension": ".py",
   "mimetype": "text/x-python",
   "name": "python",
   "nbconvert_exporter": "python",
   "pygments_lexer": "ipython3",
   "version": "3.11.11"
  }
 },
 "nbformat": 4,
 "nbformat_minor": 5
}
